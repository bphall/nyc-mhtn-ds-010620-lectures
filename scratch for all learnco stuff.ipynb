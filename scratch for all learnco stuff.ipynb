{
 "cells": [
  {
   "cell_type": "code",
   "execution_count": null,
   "metadata": {},
   "outputs": [],
   "source": []
  },
  {
   "cell_type": "code",
   "execution_count": null,
   "metadata": {},
   "outputs": [],
   "source": [
    "import pandas as pd\n",
    "df = pd.read_csv('turnstile_180901.txt')\n",
    "df.columns = [col.lower() for col in df.columns]\n",
    "df = df.set_index('linename')\n",
    "df = df.reset_index()\n",
    "# Add a new 'num_lines' column\n",
    "# for line in df['linename']:\n",
    "#     df['numlines'] = len(line)\n",
    "df.head(5)\n",
    "def line_len(text_in_linename):\n",
    "    return len(text_in_linename)\n",
    "df['num_lines'] = df['linename'].map(line_len)\n",
    "df.tail(50)\n",
    "\n",
    "def clean(col_name):\n",
    "    # Clean the column name in any way you want to. Hint: think back to str methods \n",
    "    cleaned = col_name.strip()\n",
    "    return cleaned\n",
    "\n",
    "df.columns = [clean(col) for col in df.columns]\n",
    "df.columns\n",
    "\n",
    "df['date'].dtype\n",
    "df['date'] = pd.to_datetime(df['date'])\n",
    "# Add a new column 'day_of_week' that represents the day of the week \n",
    "df['day_of_week'] = df['date'].dt.dayofweek\n",
    "df.head(50)\n",
    "\n"
   ]
  },
  {
   "cell_type": "code",
   "execution_count": null,
   "metadata": {},
   "outputs": [],
   "source": []
  },
  {
   "cell_type": "code",
   "execution_count": null,
   "metadata": {},
   "outputs": [],
   "source": []
  },
  {
   "cell_type": "code",
   "execution_count": null,
   "metadata": {},
   "outputs": [],
   "source": []
  },
  {
   "cell_type": "code",
   "execution_count": null,
   "metadata": {},
   "outputs": [],
   "source": []
  },
  {
   "cell_type": "code",
   "execution_count": null,
   "metadata": {},
   "outputs": [],
   "source": []
  },
  {
   "cell_type": "code",
   "execution_count": 8,
   "metadata": {},
   "outputs": [
    {
     "name": "stdout",
     "output_type": "stream",
     "text": [
      "0.0003349781036376953\n"
     ]
    }
   ],
   "source": [
    "import time\n",
    "\n",
    "start = time.time()\n",
    "\n",
    "class Solution:\n",
    "    def fizzBuzz(self, n: int):\n",
    "        new_list = []\n",
    "        for i in range (1,n+1):\n",
    "            if i%3 == 0 and i%5 != 0:\n",
    "                new_list.append('fizz')\n",
    "            elif i%5 == 0 and i%3 != 0:\n",
    "                new_list.append('buzz')\n",
    "            elif i%5 == 0 and i%3==0:\n",
    "                new_list.append('fizzbuzz')\n",
    "            else:\n",
    "                new_list.append(str(i))\n",
    "        return new_list\n",
    "                \n",
    "ex = Solution()\n",
    "ex.fizzBuzz(100)\n",
    "    \n",
    "    \n",
    "end = time.time()\n",
    "print(end-start)"
   ]
  },
  {
   "cell_type": "code",
   "execution_count": null,
   "metadata": {},
   "outputs": [],
   "source": []
  }
 ],
 "metadata": {
  "kernelspec": {
   "display_name": "Python 3",
   "language": "python",
   "name": "python3"
  },
  "language_info": {
   "codemirror_mode": {
    "name": "ipython",
    "version": 3
   },
   "file_extension": ".py",
   "mimetype": "text/x-python",
   "name": "python",
   "nbconvert_exporter": "python",
   "pygments_lexer": "ipython3",
   "version": "3.7.4"
  }
 },
 "nbformat": 4,
 "nbformat_minor": 2
}
