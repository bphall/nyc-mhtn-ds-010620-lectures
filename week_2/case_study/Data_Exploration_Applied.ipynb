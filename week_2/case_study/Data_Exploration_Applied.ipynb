{
 "cells": [
  {
   "cell_type": "code",
   "execution_count": 296,
   "metadata": {},
   "outputs": [],
   "source": [
    "import pandas as pd\n",
    "import matplotlib.pyplot as plt\n",
    "import numpy as np\n",
    "%matplotlib inline\n",
    "\n",
    "\n",
    "pd.set_option('display.max_columns', 1000)\n",
    "pd.set_option('display.max_rows', 1000)"
   ]
  },
  {
   "cell_type": "code",
   "execution_count": 297,
   "metadata": {},
   "outputs": [
    {
     "name": "stderr",
     "output_type": "stream",
     "text": [
      "/Users/braytonhall/opt/anaconda3/lib/python3.7/site-packages/IPython/core/interactiveshell.py:3058: DtypeWarning: Columns (171) have mixed types. Specify dtype option on import or set low_memory=False.\n",
      "  interactivity=interactivity, compiler=compiler, result=result)\n"
     ]
    }
   ],
   "source": [
    "#Load our dataframe account for the index columns\n",
    "df = pd.read_csv('case_study.csv', index_col='Unnamed: 0')"
   ]
  },
  {
   "cell_type": "code",
   "execution_count": 298,
   "metadata": {},
   "outputs": [
    {
     "name": "stdout",
     "output_type": "stream",
     "text": [
      "<class 'pandas.core.frame.DataFrame'>\n",
      "Int64Index: 34545 entries, 49938 to 303778\n",
      "Columns: 358 entries, _STATE to _AIDTST3\n",
      "dtypes: float64(352), int64(5), object(1)\n",
      "memory usage: 94.6+ MB\n"
     ]
    }
   ],
   "source": [
    "df.info()"
   ]
  },
  {
   "cell_type": "code",
   "execution_count": 299,
   "metadata": {},
   "outputs": [
    {
     "data": {
      "text/plain": [
       "(34545, 358)"
      ]
     },
     "execution_count": 299,
     "metadata": {},
     "output_type": "execute_result"
    }
   ],
   "source": [
    "df.shape"
   ]
  },
  {
   "cell_type": "code",
   "execution_count": 300,
   "metadata": {
    "scrolled": true
   },
   "outputs": [
    {
     "data": {
      "text/plain": [
       "36.0    12249\n",
       "34.0    11708\n",
       "9.0     10588\n",
       "Name: _STATE, dtype: int64"
      ]
     },
     "execution_count": 300,
     "metadata": {},
     "output_type": "execute_result"
    }
   ],
   "source": [
    "df['_STATE'].value_counts(dropna=False)"
   ]
  },
  {
   "cell_type": "markdown",
   "metadata": {},
   "source": [
    "## Subset your dataframe to only include the states in the tri-state area (NJ, CT, NY)"
   ]
  },
  {
   "cell_type": "code",
   "execution_count": 301,
   "metadata": {},
   "outputs": [],
   "source": [
    "# All the states in df already limited to CT, NJ and NY. "
   ]
  },
  {
   "cell_type": "markdown",
   "metadata": {},
   "source": [
    "Now check to see how large our subset df."
   ]
  },
  {
   "cell_type": "code",
   "execution_count": 302,
   "metadata": {},
   "outputs": [
    {
     "name": "stdout",
     "output_type": "stream",
     "text": [
      "<class 'pandas.core.frame.DataFrame'>\n",
      "Int64Index: 34545 entries, 49938 to 303778\n",
      "Columns: 358 entries, _STATE to _AIDTST3\n",
      "dtypes: float64(352), int64(5), object(1)\n",
      "memory usage: 94.6+ MB\n"
     ]
    }
   ],
   "source": [
    "# your code here\n",
    "df.info()"
   ]
  },
  {
   "cell_type": "markdown",
   "metadata": {},
   "source": [
    "**PHYSHLTH** is the column we are interested in for this analysis, so let's start to investigate the column. Since we have a data cookbook, a.k.a. data dictionary) we want to start there before looking at the code. "
   ]
  },
  {
   "cell_type": "code",
   "execution_count": 303,
   "metadata": {
    "scrolled": false
   },
   "outputs": [
    {
     "data": {
      "text/plain": [
       "count    34545.000000\n",
       "mean        60.213403\n",
       "std         37.504566\n",
       "min          1.000000\n",
       "25%         15.000000\n",
       "50%         88.000000\n",
       "75%         88.000000\n",
       "max         99.000000\n",
       "Name: PHYSHLTH, dtype: float64"
      ]
     },
     "execution_count": 303,
     "metadata": {},
     "output_type": "execute_result"
    }
   ],
   "source": [
    "df['PHYSHLTH'].describe()"
   ]
  },
  {
   "cell_type": "code",
   "execution_count": 304,
   "metadata": {
    "scrolled": true
   },
   "outputs": [
    {
     "data": {
      "text/plain": [
       "False"
      ]
     },
     "execution_count": 304,
     "metadata": {},
     "output_type": "execute_result"
    }
   ],
   "source": [
    "df['PHYSHLTH'].isna().any()"
   ]
  },
  {
   "cell_type": "code",
   "execution_count": 305,
   "metadata": {},
   "outputs": [
    {
     "data": {
      "text/plain": [
       "36.0    12249\n",
       "34.0    11708\n",
       "9.0     10588\n",
       "Name: _STATE, dtype: int64"
      ]
     },
     "execution_count": 305,
     "metadata": {},
     "output_type": "execute_result"
    }
   ],
   "source": [
    "df['_STATE'].value_counts()"
   ]
  },
  {
   "cell_type": "code",
   "execution_count": 306,
   "metadata": {},
   "outputs": [
    {
     "data": {
      "text/plain": [
       "88.0    21296\n",
       "30.0     2438\n",
       "2.0      1993\n",
       "1.0      1538\n",
       "3.0      1187\n",
       "5.0      1092\n",
       "10.0      751\n",
       "7.0       641\n",
       "15.0      640\n",
       "4.0       622\n",
       "77.0      493\n",
       "20.0      402\n",
       "14.0      326\n",
       "6.0       187\n",
       "25.0      159\n",
       "8.0        99\n",
       "21.0       70\n",
       "12.0       69\n",
       "28.0       57\n",
       "29.0       35\n",
       "27.0       22\n",
       "18.0       19\n",
       "16.0       16\n",
       "17.0       15\n",
       "9.0        15\n",
       "22.0       12\n",
       "13.0       10\n",
       "19.0       10\n",
       "11.0        8\n",
       "24.0        7\n",
       "26.0        7\n",
       "23.0        4\n",
       "Name: PHYSHLTH, dtype: int64"
      ]
     },
     "execution_count": 306,
     "metadata": {},
     "output_type": "execute_result"
    }
   ],
   "source": [
    "df.drop(df.loc[df['PHYSHLTH'] == 99]['PHYSHLTH'].index, inplace=True)\n",
    "df['PHYSHLTH'].value_counts(ascending=False)"
   ]
  },
  {
   "cell_type": "markdown",
   "metadata": {},
   "source": [
    "## 1. Handle the non-normal values\n",
    "\n",
    "As you can see from the data dictionary, there are a number of responses that are coded with values that could throw off our descriptive statistics.  Let's clean up by mapping the responses to a more appropriate value, and handling any missing values.  "
   ]
  },
  {
   "cell_type": "markdown",
   "metadata": {},
   "source": [
    "### Below, we get rid of every row including a score of '99' or '77', since these values respectively indicate a patient's refusal to provide their own 1-30 value, or a 'Don’t know/Not sure' indication by the patient. There were only 305 (out of a total 34, 545) of the '99' ratings and only 493 of the '77' ratings, so removing them shouldn't introduce much bias in the data.\n",
    "\n",
    "### We also drop all rows with health scores of '88', since we're only interested in comparing CT, NJ, and NY based on patients with bad health histories in the past month (leaving only '1'-'30' values)."
   ]
  },
  {
   "cell_type": "code",
   "execution_count": 307,
   "metadata": {},
   "outputs": [
    {
     "data": {
      "text/plain": [
       "88.0    21296\n",
       "Name: PHYSHLTH, dtype: int64"
      ]
     },
     "execution_count": 307,
     "metadata": {},
     "output_type": "execute_result"
    }
   ],
   "source": [
    "just_with_the_nones['PHYSHLTH'].value_counts()"
   ]
  },
  {
   "cell_type": "code",
   "execution_count": 308,
   "metadata": {
    "scrolled": true
   },
   "outputs": [
    {
     "data": {
      "text/plain": [
       "30.0    2438\n",
       "2.0     1993\n",
       "1.0     1538\n",
       "3.0     1187\n",
       "5.0     1092\n",
       "10.0     751\n",
       "7.0      641\n",
       "15.0     640\n",
       "4.0      622\n",
       "20.0     402\n",
       "14.0     326\n",
       "6.0      187\n",
       "25.0     159\n",
       "8.0       99\n",
       "21.0      70\n",
       "12.0      69\n",
       "28.0      57\n",
       "29.0      35\n",
       "27.0      22\n",
       "18.0      19\n",
       "16.0      16\n",
       "9.0       15\n",
       "17.0      15\n",
       "22.0      12\n",
       "13.0      10\n",
       "19.0      10\n",
       "11.0       8\n",
       "24.0       7\n",
       "26.0       7\n",
       "23.0       4\n",
       "Name: PHYSHLTH, dtype: int64"
      ]
     },
     "execution_count": 308,
     "metadata": {},
     "output_type": "execute_result"
    }
   ],
   "source": [
    "df.drop(df.loc[df['PHYSHLTH'] == 99].index, inplace=True)\n",
    "df.drop(df.loc[df['PHYSHLTH'] == 77].index, inplace=True)\n",
    "just_with_the_nones = df.loc[df['PHYSHLTH'] == 88]\n",
    "df_bad_health = df.drop(df.loc[df['PHYSHLTH'] == 88].index)\n",
    "df_bad_health['PHYSHLTH'].value_counts()"
   ]
  },
  {
   "cell_type": "markdown",
   "metadata": {},
   "source": [
    "## 2. Generate the descriptive statistics\n",
    "\n",
    "Now that our target variable is cleaned up lets calculate the descriptive statistics, generate a graph that quickly shows those statistics, and generate a gprah shows the histogram of the data."
   ]
  },
  {
   "cell_type": "code",
   "execution_count": 309,
   "metadata": {},
   "outputs": [],
   "source": [
    "CT = df_bad_health.loc[df['_STATE'] == 9.0, ['PHYSHLTH', '_STATE']]\n",
    "NJ = df_bad_health.loc[df['_STATE'] == 34.0, ['PHYSHLTH', '_STATE']]\n",
    "NY = df_bad_health.loc[df['_STATE'] == 36.0, ['PHYSHLTH', '_STATE']]"
   ]
  },
  {
   "cell_type": "markdown",
   "metadata": {},
   "source": [
    "## Below is a boxplot and histogram set that includes the PHYSHLTH data for each state, with their respective descriptive statistics."
   ]
  },
  {
   "cell_type": "code",
   "execution_count": 355,
   "metadata": {
    "scrolled": true
   },
   "outputs": [
    {
     "data": {
      "image/png": "[encoded data removed]",
      "text/plain": [
       "<Figure size 432x288 with 1 Axes>"
      ]
     },
     "metadata": {
      "needs_background": "light"
     },
     "output_type": "display_data"
    }
   ],
   "source": [
    "plt.boxplot([CT['PHYSHLTH'], NJ['PHYSHLTH'], NY['PHYSHLTH']], labels=['CT mean: 10.57 \\n std: 10.75', \\\n",
    "                                                                      'NJ  mean: 12.08 \\n std: 11.25', \\\n",
    "                                                                      'NY mean: 10.57 \\n std: 10.67'], \\\n",
    "                                                                        showmeans=True)\n",
    "plt.show()"
   ]
  },
  {
   "cell_type": "code",
   "execution_count": 311,
   "metadata": {
    "scrolled": true
   },
   "outputs": [
    {
     "data": {
      "image/png": "[encoded data removed]",
      "text/plain": [
       "<Figure size 1080x288 with 3 Axes>"
      ]
     },
     "metadata": {
      "needs_background": "light"
     },
     "output_type": "display_data"
    }
   ],
   "source": [
    "fig, ax = plt.subplots(1, 3, figsize = (15,4), sharey=True)\n",
    "fig.text(0.08, 0.5, 'Count', va='center', rotation='vertical', fontsize = 15)\n",
    "# fig.text(0.45, 0, 'Number of Days Sick Last Month', ha='center', rotation='horizontal', fontsize = 18)\n",
    "\n",
    "ax[0].hist(CT['PHYSHLTH'], color='skyblue', bins=30)\n",
    "ax[0].set_title('Connecticut', fontsize=20)\n",
    "ax[0].text(10, 350, CT['PHYSHLTH'].describe().to_string())\n",
    "ax[0].set_xlabel('Number of Sick Days')\n",
    "ax[1].hist(NJ['PHYSHLTH'], bins=30, color='orange')\n",
    "ax[1].set_title('New Jersey', fontsize=20)\n",
    "ax[1].text(10, 500, NJ['PHYSHLTH'].describe().to_string())\n",
    "ax[1].set_xlabel('Number of Sick Days')\n",
    "ax[2].hist(NY['PHYSHLTH'], bins=30, color='darkblue')\n",
    "ax[2].set_title('New York', fontsize=20)\n",
    "ax[2].text(10, 400, NY['PHYSHLTH'].describe().to_string())\n",
    "ax[2].set_xlabel('Number of Sick Days')\n",
    "\n",
    "plt.show()"
   ]
  },
  {
   "cell_type": "markdown",
   "metadata": {},
   "source": [
    "## 3. Generate a graphic that compares the average number of sick days for each state. "
   ]
  },
  {
   "cell_type": "code",
   "execution_count": 353,
   "metadata": {},
   "outputs": [
    {
     "data": {
      "image/png": "[encoded data removed]",
      "text/plain": [
       "<Figure size 432x288 with 1 Axes>"
      ]
     },
     "metadata": {
      "needs_background": "light"
     },
     "output_type": "display_data"
    }
   ],
   "source": [
    "# code to calculate the average number of sick days by state\n",
    "\n",
    "\n",
    "avg_CT_sickdays = len(CT['PHYSHLTH'])/len(df.loc[df['PHYSHLTH'] == 30])\n",
    "avg_NJ_sickdays = len(NJ['PHYSHLTH'])/len(df.loc[df['PHYSHLTH'] == 30])\n",
    "avg_NY_sickdays = len(NY['PHYSHLTH'])/len(df.loc[df['PHYSHLTH'] == 30])\n",
    "\n",
    "# fig, ax = plt.subplots(1, 3, figsize = (15,4), sharey=True)\n",
    "\n",
    "# ax[0].bar('CT', avg_CT_sickdays, color='skyblue')\n",
    "# ax[0].bar('NJ', avg_NJ_sickdays, color='orange')\n",
    "# ax[0].bar('NY', avg_NY_sickdays, color='darkblue')\n",
    "\n",
    "plt.bar([f'CT {round(avg_CT_sickdays, 2)}', \\\n",
    "         f'NJ {round(avg_NJ_sickdays, 3)}', \\\n",
    "         f'NY {round(avg_NY_sickdays, 2)}'], \\\n",
    "        [avg_CT_sickdays, avg_NJ_sickdays, avg_NY_sickdays], \\\n",
    "        color=['skyblue', 'orange', 'darkblue'])\n",
    "plt.xlabel('State', fontsize=18)\n",
    "plt.ylabel('Average Sick Days', fontsize=12, rotation='vertical')\n",
    "plt.show()"
   ]
  },
  {
   "cell_type": "code",
   "execution_count": null,
   "metadata": {},
   "outputs": [],
   "source": [
    "# code to graph those averages using matplotlib"
   ]
  },
  {
   "cell_type": "markdown",
   "metadata": {},
   "source": [
    "## 4. Turn the number of sick days into a classification of of chronically sick people.  \n",
    "\n",
    "Chronically sick people account for a significant proportion of the costs for health insurers. If we can identify what leads people to be chronically sick, we can address them with specific treatments.\n",
    "\n"
   ]
  },
  {
   "cell_type": "code",
   "execution_count": 374,
   "metadata": {},
   "outputs": [
    {
     "data": {
      "text/plain": [
       "False    0.821107\n",
       "True     0.178893\n",
       "Name: chronic_sick, dtype: float64"
      ]
     },
     "execution_count": 374,
     "metadata": {},
     "output_type": "execute_result"
    }
   ],
   "source": [
    "# code to create new colum for chronically sick\n",
    "CT['chronic_sick']= CT['PHYSHLTH'].map(lambda x: True if x == 30 else False)\n",
    "CT['chronic_sick'].value_counts(normalize=True)\n",
    "NJ['chronic_sick']= NJ['PHYSHLTH'].map(lambda x: True if x == 30 else False)\n",
    "NJ['chronic_sick'].value_counts(normalize=True)\n",
    "NY['chronic_sick']= NY['PHYSHLTH'].map(lambda x: True if x == 30 else False)\n",
    "NY['chronic_sick'].value_counts(normalize=True)"
   ]
  },
  {
   "cell_type": "code",
   "execution_count": 396,
   "metadata": {},
   "outputs": [],
   "source": [
    "CT_true = len(CT.loc[CT['chronic_sick'] == True])\n",
    "CT_false = len(CT.loc[CT['chronic_sick'] == False])\n",
    "NJ_true = len(NJ.loc[NJ['chronic_sick'] == True])\n",
    "NJ_false = len(NJ.loc[NJ['chronic_sick'] == False])\n",
    "NY_true = len(NY.loc[NY['chronic_sick'] == True])\n",
    "NY_false = len(NY.loc[NY['chronic_sick'] == False])\n",
    "\n",
    "plt.bar(['CT_true, CT_false, NJ_true, NJ_false, NY_true, NY_false'], )"
   ]
  },
  {
   "cell_type": "markdown",
   "metadata": {},
   "source": [
    "## 5. Create a graphic that compares the percentage of people labeled as 'sick' in each state. "
   ]
  },
  {
   "cell_type": "code",
   "execution_count": null,
   "metadata": {},
   "outputs": [],
   "source": [
    "# code to calculate averages per state"
   ]
  },
  {
   "cell_type": "code",
   "execution_count": null,
   "metadata": {},
   "outputs": [],
   "source": [
    "# create graphic to compare chronically sick by state"
   ]
  },
  {
   "cell_type": "markdown",
   "metadata": {},
   "source": [
    "## 6. Independent Variables (categorical)\n",
    "\n",
    "Let's take the column `SMOKDAY2` and start to prepare it so that we can see how it is possibly correlated to `PHYSHLTH`.\n",
    "\n",
    "1. Clean up the values.\n",
    "2. Calculate the descriptive statistics of the variable.\n",
    "3. Generate a histogram for the variable.\n",
    "4. Generate graphics that show how the responses to this variable might differ by state.\n",
    "5. Generate a graphic that compares the physical health of the different groups of 'smokers'."
   ]
  },
  {
   "cell_type": "markdown",
   "metadata": {},
   "source": [
    "## 7. Independent Variables (continuous):\n",
    "\n",
    "Now let's look at a continuous variable (ALCDAY5) and see how that might impact a person's health. \n",
    "\n",
    "1. Clean up the values.\n",
    "2. Calculate the descriptive statistics of the variable.\n",
    "3. Generate a histogram for the variable.\n",
    "4. Generate graphics that show how the responses to this variable might differ by state.\n",
    "5. Calculate the correlation coefficient between `PHYSHLTH` and `ALCDAY5`.\n",
    "5. Generate a graphic that shows the possible relationship between `PHYSHLTH` and `ALCDAY5`."
   ]
  },
  {
   "cell_type": "markdown",
   "metadata": {},
   "source": [
    "## 8. Additional variables: Choose two additional survey items you would like to investigate do steps  6 or 7 for those variables."
   ]
  },
  {
   "cell_type": "code",
   "execution_count": null,
   "metadata": {},
   "outputs": [],
   "source": [
    "# your code here"
   ]
  },
  {
   "cell_type": "markdown",
   "metadata": {},
   "source": [
    "## 9. Based on your initial data exploration, what are some hypotheses of what affects a person's health that you would like to further investigate?"
   ]
  },
  {
   "cell_type": "markdown",
   "metadata": {},
   "source": [
    "Type out your initial hyptotheses below:\n",
    "\n",
    "1. \n",
    "\n",
    "2. \n",
    "\n",
    "3.  "
   ]
  },
  {
   "cell_type": "markdown",
   "metadata": {},
   "source": [
    "## Bonus: Create some cool graphics.  "
   ]
  },
  {
   "cell_type": "code",
   "execution_count": null,
   "metadata": {},
   "outputs": [],
   "source": []
  }
 ],
 "metadata": {
  "kernelspec": {
   "display_name": "Python 3",
   "language": "python",
   "name": "python3"
  },
  "language_info": {
   "codemirror_mode": {
    "name": "ipython",
    "version": 3
   },
   "file_extension": ".py",
   "mimetype": "text/x-python",
   "name": "python",
   "nbconvert_exporter": "python",
   "pygments_lexer": "ipython3",
   "version": "3.7.4"
  }
 },
 "nbformat": 4,
 "nbformat_minor": 2
}
